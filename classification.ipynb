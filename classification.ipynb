{
  "nbformat": 4,
  "nbformat_minor": 0,
  "metadata": {
    "colab": {
      "name": "classification_MLPificat.ipynb",
      "provenance": []
    },
    "kernelspec": {
      "name": "python3",
      "display_name": "Python 3"
    }
  },
  "cells": [
    {
      "cell_type": "markdown",
      "metadata": {
        "id": "NkKbZb3B2YW-"
      },
      "source": [
        "# **Artificial Neural Net**"
      ]
    },
    {
      "cell_type": "code",
      "metadata": {
        "colab": {
          "base_uri": "https://localhost:8080/",
          "height": 35
        },
        "id": "JRcoGJxf2SxF",
        "outputId": "dc89dca2-db27-40bf-b58b-1f13592d3538"
      },
      "source": [
        "import tensorflow as tf\n",
        "from tensorflow import keras\n",
        "tf.__version__"
      ],
      "execution_count": null,
      "outputs": [
        {
          "output_type": "execute_result",
          "data": {
            "application/vnd.google.colaboratory.intrinsic+json": {
              "type": "string"
            },
            "text/plain": [
              "'2.4.0'"
            ]
          },
          "metadata": {
            "tags": []
          },
          "execution_count": 46
        }
      ]
    },
    {
      "cell_type": "code",
      "metadata": {
        "colab": {
          "base_uri": "https://localhost:8080/",
          "height": 35
        },
        "id": "Dq9166f424C1",
        "outputId": "9d3efef2-72ad-4f78-c12e-10cbd9ac0358"
      },
      "source": [
        "keras.__version__"
      ],
      "execution_count": null,
      "outputs": [
        {
          "output_type": "execute_result",
          "data": {
            "application/vnd.google.colaboratory.intrinsic+json": {
              "type": "string"
            },
            "text/plain": [
              "'2.4.0'"
            ]
          },
          "metadata": {
            "tags": []
          },
          "execution_count": 47
        }
      ]
    },
    {
      "cell_type": "code",
      "metadata": {
        "id": "z3GYyoAQ4F8L"
      },
      "source": [
        "fashion_mnist=keras.datasets.fashion_mnist\n",
        "(X_train_full,y_train_full),(X_test,y_test)=fashion_mnist.load_data()"
      ],
      "execution_count": null,
      "outputs": []
    },
    {
      "cell_type": "code",
      "metadata": {
        "id": "zl0FMhnZ4eKV"
      },
      "source": [
        "X_valid,X_train=X_train_full[:5000]/255.0 , X_train_full[5000:]/255.0\n",
        "y_valid,y_train=y_train_full[:5000]/255.0 , y_train_full[5000:]/255.0\n",
        "class_names = [\"T-shirt/top\", \"Trouser\", \"Pullover\", \"Dress\", \"Coat\",\n",
        "               \"Sandal\", \"Shirt\", \"Sneaker\", \"Bag\", \"Ankle boot\"]"
      ],
      "execution_count": null,
      "outputs": []
    },
    {
      "cell_type": "code",
      "metadata": {
        "colab": {
          "base_uri": "https://localhost:8080/"
        },
        "id": "_Ebo2kXhuyCm",
        "outputId": "a34a77a1-c845-4b1d-e892-2d492731ea74"
      },
      "source": [
        "model=keras.models.Sequential([keras.layers.Flatten(input_shape=[28,28]), \n",
        "                              keras.layers.Dense(300,activation=\"relu\") , \n",
        "                              keras.layers.Dense(100,activation=\"relu\"),\n",
        "                              keras.layers.Dense(10,activation=\"softmax\")\n",
        "                              ])\n",
        "\n",
        "model.summary()"
      ],
      "execution_count": null,
      "outputs": [
        {
          "output_type": "stream",
          "text": [
            "Model: \"sequential_3\"\n",
            "_________________________________________________________________\n",
            "Layer (type)                 Output Shape              Param #   \n",
            "=================================================================\n",
            "flatten_4 (Flatten)          (None, 784)               0         \n",
            "_________________________________________________________________\n",
            "dense_9 (Dense)              (None, 300)               235500    \n",
            "_________________________________________________________________\n",
            "dense_10 (Dense)             (None, 100)               30100     \n",
            "_________________________________________________________________\n",
            "dense_11 (Dense)             (None, 10)                1010      \n",
            "=================================================================\n",
            "Total params: 266,610\n",
            "Trainable params: 266,610\n",
            "Non-trainable params: 0\n",
            "_________________________________________________________________\n"
          ],
          "name": "stdout"
        }
      ]
    },
    {
      "cell_type": "code",
      "metadata": {
        "colab": {
          "base_uri": "https://localhost:8080/"
        },
        "id": "f15RqsecxfTE",
        "outputId": "4868971a-9f7c-4bc7-97d6-cfb3f5bae242"
      },
      "source": [
        "hidden1=model.layers[1]\n",
        "weights,biases=hidden1.get_weights()\n",
        "weights"
      ],
      "execution_count": null,
      "outputs": [
        {
          "output_type": "execute_result",
          "data": {
            "text/plain": [
              "array([[-0.0349341 ,  0.01065028,  0.06229173, ..., -0.05466262,\n",
              "        -0.06054332, -0.00965274],\n",
              "       [ 0.03296752,  0.01313073, -0.04695524, ...,  0.06918751,\n",
              "         0.02987085, -0.00270087],\n",
              "       [ 0.07123038,  0.02572037, -0.06217414, ..., -0.05268779,\n",
              "        -0.02152473,  0.06088945],\n",
              "       ...,\n",
              "       [ 0.03336725,  0.03012214, -0.05880517, ..., -0.02649647,\n",
              "        -0.03504578, -0.0739042 ],\n",
              "       [-0.04324123,  0.0405376 , -0.0387117 , ..., -0.05090863,\n",
              "        -0.05814252, -0.0036922 ],\n",
              "       [ 0.03895634,  0.04912312,  0.07002565, ...,  0.01616518,\n",
              "        -0.07429342,  0.0611544 ]], dtype=float32)"
            ]
          },
          "metadata": {
            "tags": []
          },
          "execution_count": 51
        }
      ]
    },
    {
      "cell_type": "code",
      "metadata": {
        "colab": {
          "base_uri": "https://localhost:8080/"
        },
        "id": "vts0Vs-Rx5LI",
        "outputId": "eb1586f1-dadf-40b9-d5fa-d4c234160e6b"
      },
      "source": [
        "biases"
      ],
      "execution_count": null,
      "outputs": [
        {
          "output_type": "execute_result",
          "data": {
            "text/plain": [
              "array([0., 0., 0., 0., 0., 0., 0., 0., 0., 0., 0., 0., 0., 0., 0., 0., 0.,\n",
              "       0., 0., 0., 0., 0., 0., 0., 0., 0., 0., 0., 0., 0., 0., 0., 0., 0.,\n",
              "       0., 0., 0., 0., 0., 0., 0., 0., 0., 0., 0., 0., 0., 0., 0., 0., 0.,\n",
              "       0., 0., 0., 0., 0., 0., 0., 0., 0., 0., 0., 0., 0., 0., 0., 0., 0.,\n",
              "       0., 0., 0., 0., 0., 0., 0., 0., 0., 0., 0., 0., 0., 0., 0., 0., 0.,\n",
              "       0., 0., 0., 0., 0., 0., 0., 0., 0., 0., 0., 0., 0., 0., 0., 0., 0.,\n",
              "       0., 0., 0., 0., 0., 0., 0., 0., 0., 0., 0., 0., 0., 0., 0., 0., 0.,\n",
              "       0., 0., 0., 0., 0., 0., 0., 0., 0., 0., 0., 0., 0., 0., 0., 0., 0.,\n",
              "       0., 0., 0., 0., 0., 0., 0., 0., 0., 0., 0., 0., 0., 0., 0., 0., 0.,\n",
              "       0., 0., 0., 0., 0., 0., 0., 0., 0., 0., 0., 0., 0., 0., 0., 0., 0.,\n",
              "       0., 0., 0., 0., 0., 0., 0., 0., 0., 0., 0., 0., 0., 0., 0., 0., 0.,\n",
              "       0., 0., 0., 0., 0., 0., 0., 0., 0., 0., 0., 0., 0., 0., 0., 0., 0.,\n",
              "       0., 0., 0., 0., 0., 0., 0., 0., 0., 0., 0., 0., 0., 0., 0., 0., 0.,\n",
              "       0., 0., 0., 0., 0., 0., 0., 0., 0., 0., 0., 0., 0., 0., 0., 0., 0.,\n",
              "       0., 0., 0., 0., 0., 0., 0., 0., 0., 0., 0., 0., 0., 0., 0., 0., 0.,\n",
              "       0., 0., 0., 0., 0., 0., 0., 0., 0., 0., 0., 0., 0., 0., 0., 0., 0.,\n",
              "       0., 0., 0., 0., 0., 0., 0., 0., 0., 0., 0., 0., 0., 0., 0., 0., 0.,\n",
              "       0., 0., 0., 0., 0., 0., 0., 0., 0., 0., 0.], dtype=float32)"
            ]
          },
          "metadata": {
            "tags": []
          },
          "execution_count": 52
        }
      ]
    },
    {
      "cell_type": "code",
      "metadata": {
        "id": "3Coic8cpyon_"
      },
      "source": [
        "model.compile(loss=\"sparse_categorical_crossentropy\" , optimizer=keras.optimizers.SGD(lr=0.005), metrics=[\"accuracy\"])"
      ],
      "execution_count": null,
      "outputs": []
    },
    {
      "cell_type": "code",
      "metadata": {
        "colab": {
          "base_uri": "https://localhost:8080/"
        },
        "id": "U9VDUZAE1JbQ",
        "outputId": "355bbca1-aa2e-4b56-86df-aa264089288d"
      },
      "source": [
        "history=model.fit(X_train,y_train,epochs=30,\n",
        "                  validation_data=(X_valid,y_valid)\n",
        "                  )"
      ],
      "execution_count": null,
      "outputs": [
        {
          "output_type": "stream",
          "text": [
            "Epoch 1/30\n",
            "1719/1719 [==============================] - 6s 3ms/step - loss: 0.1073 - accuracy: 0.0990 - val_loss: 0.0022 - val_accuracy: 0.0914\n",
            "Epoch 2/30\n",
            "1719/1719 [==============================] - 5s 3ms/step - loss: 0.0019 - accuracy: 0.1020 - val_loss: 0.0010 - val_accuracy: 0.0914\n",
            "Epoch 3/30\n",
            "1719/1719 [==============================] - 5s 3ms/step - loss: 9.7144e-04 - accuracy: 0.1010 - val_loss: 6.4974e-04 - val_accuracy: 0.0914\n",
            "Epoch 4/30\n",
            "1719/1719 [==============================] - 5s 3ms/step - loss: 6.4690e-04 - accuracy: 0.1025 - val_loss: 4.7701e-04 - val_accuracy: 0.0914\n",
            "Epoch 5/30\n",
            "1719/1719 [==============================] - 5s 3ms/step - loss: 4.8538e-04 - accuracy: 0.1000 - val_loss: 3.7585e-04 - val_accuracy: 0.0914\n",
            "Epoch 6/30\n",
            "1719/1719 [==============================] - 5s 3ms/step - loss: 3.6352e-04 - accuracy: 0.1027 - val_loss: 3.0964e-04 - val_accuracy: 0.0914\n",
            "Epoch 7/30\n",
            "1719/1719 [==============================] - 5s 3ms/step - loss: 3.4076e-04 - accuracy: 0.1007 - val_loss: 2.6303e-04 - val_accuracy: 0.0914\n",
            "Epoch 8/30\n",
            "1719/1719 [==============================] - 5s 3ms/step - loss: 2.5174e-04 - accuracy: 0.1019 - val_loss: 2.2839e-04 - val_accuracy: 0.0914\n",
            "Epoch 9/30\n",
            "1719/1719 [==============================] - 5s 3ms/step - loss: 2.2451e-04 - accuracy: 0.1003 - val_loss: 2.0173e-04 - val_accuracy: 0.0914\n",
            "Epoch 10/30\n",
            "1719/1719 [==============================] - 5s 3ms/step - loss: 1.9565e-04 - accuracy: 0.1006 - val_loss: 1.8056e-04 - val_accuracy: 0.0914\n",
            "Epoch 11/30\n",
            "1719/1719 [==============================] - 5s 3ms/step - loss: 1.8023e-04 - accuracy: 0.1007 - val_loss: 1.6335e-04 - val_accuracy: 0.0914\n",
            "Epoch 12/30\n",
            "1719/1719 [==============================] - 5s 3ms/step - loss: 1.5998e-04 - accuracy: 0.1021 - val_loss: 1.4909e-04 - val_accuracy: 0.0914\n",
            "Epoch 13/30\n",
            "1719/1719 [==============================] - 5s 3ms/step - loss: 1.4001e-04 - accuracy: 0.1014 - val_loss: 1.3709e-04 - val_accuracy: 0.0914\n",
            "Epoch 14/30\n",
            "1719/1719 [==============================] - 5s 3ms/step - loss: 1.3839e-04 - accuracy: 0.1027 - val_loss: 1.2685e-04 - val_accuracy: 0.0914\n",
            "Epoch 15/30\n",
            "1719/1719 [==============================] - 5s 3ms/step - loss: 1.2527e-04 - accuracy: 0.1013 - val_loss: 1.1801e-04 - val_accuracy: 0.0914\n",
            "Epoch 16/30\n",
            "1719/1719 [==============================] - 5s 3ms/step - loss: 1.2368e-04 - accuracy: 0.1020 - val_loss: 1.1031e-04 - val_accuracy: 0.0914\n",
            "Epoch 17/30\n",
            "1719/1719 [==============================] - 5s 3ms/step - loss: 1.1035e-04 - accuracy: 0.0993 - val_loss: 1.0353e-04 - val_accuracy: 0.0914\n",
            "Epoch 18/30\n",
            "1719/1719 [==============================] - 5s 3ms/step - loss: 1.0881e-04 - accuracy: 0.1021 - val_loss: 9.7529e-05 - val_accuracy: 0.0914\n",
            "Epoch 19/30\n",
            "1719/1719 [==============================] - 5s 3ms/step - loss: 9.2357e-05 - accuracy: 0.0986 - val_loss: 9.2172e-05 - val_accuracy: 0.0914\n",
            "Epoch 20/30\n",
            "1719/1719 [==============================] - 6s 3ms/step - loss: 1.0039e-04 - accuracy: 0.0974 - val_loss: 8.7365e-05 - val_accuracy: 0.0914\n",
            "Epoch 21/30\n",
            "1719/1719 [==============================] - 6s 3ms/step - loss: 8.3124e-05 - accuracy: 0.1009 - val_loss: 8.3024e-05 - val_accuracy: 0.0914\n",
            "Epoch 22/30\n",
            "1719/1719 [==============================] - 6s 3ms/step - loss: 7.5685e-05 - accuracy: 0.1013 - val_loss: 7.9086e-05 - val_accuracy: 0.0914\n",
            "Epoch 23/30\n",
            "1719/1719 [==============================] - 5s 3ms/step - loss: 7.4843e-05 - accuracy: 0.1025 - val_loss: 7.5499e-05 - val_accuracy: 0.0914\n",
            "Epoch 24/30\n",
            "1719/1719 [==============================] - 5s 3ms/step - loss: 7.4983e-05 - accuracy: 0.1013 - val_loss: 7.2214e-05 - val_accuracy: 0.0914\n",
            "Epoch 25/30\n",
            "1719/1719 [==============================] - 5s 3ms/step - loss: 7.2712e-05 - accuracy: 0.1011 - val_loss: 6.9203e-05 - val_accuracy: 0.0914\n",
            "Epoch 26/30\n",
            "1719/1719 [==============================] - 5s 3ms/step - loss: 7.4350e-05 - accuracy: 0.1018 - val_loss: 6.6428e-05 - val_accuracy: 0.0914\n",
            "Epoch 27/30\n",
            "1719/1719 [==============================] - 5s 3ms/step - loss: 5.9495e-05 - accuracy: 0.0993 - val_loss: 6.3861e-05 - val_accuracy: 0.0914\n",
            "Epoch 28/30\n",
            "1719/1719 [==============================] - 5s 3ms/step - loss: 6.3648e-05 - accuracy: 0.1003 - val_loss: 6.1482e-05 - val_accuracy: 0.0914\n",
            "Epoch 29/30\n",
            "1719/1719 [==============================] - 5s 3ms/step - loss: 5.8005e-05 - accuracy: 0.1009 - val_loss: 5.9270e-05 - val_accuracy: 0.0914\n",
            "Epoch 30/30\n",
            "1719/1719 [==============================] - 5s 3ms/step - loss: 5.7791e-05 - accuracy: 0.1015 - val_loss: 5.7209e-05 - val_accuracy: 0.0914\n"
          ],
          "name": "stdout"
        }
      ]
    },
    {
      "cell_type": "code",
      "metadata": {
        "colab": {
          "base_uri": "https://localhost:8080/",
          "height": 341
        },
        "id": "J6FTztaa-L2C",
        "outputId": "4f5b8497-c607-494c-b486-05ce3adf37ce"
      },
      "source": [
        "import pandas as pd\n",
        "from matplotlib import pyplot as plt\n",
        "pd.DataFrame(history.history).plot(figsize=(8,5))\n",
        "plt.grid(True)\n",
        "plt.gca().set_ylim(0,1)\n",
        "plt.show"
      ],
      "execution_count": null,
      "outputs": [
        {
          "output_type": "execute_result",
          "data": {
            "text/plain": [
              "<function matplotlib.pyplot.show>"
            ]
          },
          "metadata": {
            "tags": []
          },
          "execution_count": 55
        },
        {
          "output_type": "display_data",
          "data": {
            "image/png": "[encoded data removed]",
            "text/plain": [
              "<Figure size 576x360 with 1 Axes>"
            ]
          },
          "metadata": {
            "tags": [],
            "needs_background": "light"
          }
        }
      ]
    },
    {
      "cell_type": "markdown",
      "metadata": {
        "id": "jePgbf7P_DG4"
      },
      "source": [
        "**You can use class_weight method in case some classes are underrepresented**"
      ]
    },
    {
      "cell_type": "code",
      "metadata": {
        "id": "fNa2FOTf_N4A",
        "colab": {
          "base_uri": "https://localhost:8080/"
        },
        "outputId": "f12a74d0-abe3-433b-c13a-1b57471f9f2a"
      },
      "source": [
        "import numpy as np\n",
        "X_new=X_test[:3]\n",
        "y_prob=model.predict_classes(X_new)\n",
        "np.array(class_names)[y_prob]"
      ],
      "execution_count": null,
      "outputs": [
        {
          "output_type": "stream",
          "text": [
            "/usr/local/lib/python3.6/dist-packages/tensorflow/python/keras/engine/sequential.py:450: UserWarning: `model.predict_classes()` is deprecated and will be removed after 2021-01-01. Please use instead:* `np.argmax(model.predict(x), axis=-1)`,   if your model does multi-class classification   (e.g. if it uses a `softmax` last-layer activation).* `(model.predict(x) > 0.5).astype(\"int32\")`,   if your model does binary classification   (e.g. if it uses a `sigmoid` last-layer activation).\n",
            "  warnings.warn('`model.predict_classes()` is deprecated and '\n"
          ],
          "name": "stderr"
        },
        {
          "output_type": "execute_result",
          "data": {
            "text/plain": [
              "array(['T-shirt/top', 'T-shirt/top', 'T-shirt/top'], dtype='<U11')"
            ]
          },
          "metadata": {
            "tags": []
          },
          "execution_count": 58
        }
      ]
    },
    {
      "cell_type": "code",
      "metadata": {
        "id": "2_370cHAI0np"
      },
      "source": [
        ""
      ],
      "execution_count": null,
      "outputs": []
    }
  ]
}